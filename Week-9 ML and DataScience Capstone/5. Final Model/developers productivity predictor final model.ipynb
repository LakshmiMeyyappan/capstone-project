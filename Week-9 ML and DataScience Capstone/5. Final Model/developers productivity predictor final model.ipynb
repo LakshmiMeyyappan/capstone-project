{
 "cells": [
  {
   "cell_type": "code",
   "execution_count": 50,
   "id": "048d4048",
   "metadata": {},
   "outputs": [],
   "source": [
    "import pickle\n",
    "import pandas as pd"
   ]
  },
  {
   "cell_type": "code",
   "execution_count": 51,
   "id": "fca7d94c",
   "metadata": {},
   "outputs": [],
   "source": [
    "#load the saved model\n",
    "\n",
    "loaded_model = pickle.load(open(\"finalized_model.sav\", \"rb\"))\n",
    "selected_features = pickle.load(open(\"selected_features.sav\", \"rb\"))\n"
   ]
  },
  {
   "cell_type": "code",
   "execution_count": 79,
   "id": "c029f059",
   "metadata": {},
   "outputs": [
    {
     "name": "stderr",
     "output_type": "stream",
     "text": [
      "C:\\Anaconda\\envs\\mlai\\lib\\site-packages\\sklearn\\base.py:444: UserWarning: X has feature names, but LinearRegression was fitted without feature names\n",
      "  f\"X has feature names, but {self.__class__.__name__} was fitted without\"\n"
     ]
    }
   ],
   "source": [
    "# Sample new data input (replace this with actual input)\n",
    "new_data = pd.DataFrame([{\n",
    "    'Developer_ID': 8,\n",
    "    'Week_Number': 31,\n",
    "    'Experience_Years': 2.5,\n",
    "    'Remote_Work': 1,\n",
    "    'Hours_Worked': 29.6,\n",
    "    'Tasks_Completed': 20,\n",
    "    'Code_Review_Score': 8.7,\n",
    "    'Project_Familiarity_Percent': 53,\n",
    "    'Collaboration_Score': 8.5,\n",
    "    'Meetings_Attended': 7,\n",
    "    'Role_Level_Junior': 0,\n",
    "    'Role_Level_Mid': 0,\n",
    "    'Role_Level_Senior': 1,\n",
    "    'Programming_Language_C++': 0,\n",
    "    'Programming_Language_Go': 0,\n",
    "    'Programming_Language_Java': 0,\n",
    "    'Programming_Language_JavaScript': 1,\n",
    "    'Programming_Language_Python': 1\n",
    "}])\n",
    "\n",
    "# Extract only selected features\n",
    "X_new = new_data[selected_features]\n",
    "\n",
    "# Predict\n",
    "result = loaded_model.predict(X_new)[0]\n"
   ]
  },
  {
   "cell_type": "code",
   "execution_count": 80,
   "id": "2c3d1d15",
   "metadata": {},
   "outputs": [
    {
     "data": {
      "text/html": [
       "<div>\n",
       "<style scoped>\n",
       "    .dataframe tbody tr th:only-of-type {\n",
       "        vertical-align: middle;\n",
       "    }\n",
       "\n",
       "    .dataframe tbody tr th {\n",
       "        vertical-align: top;\n",
       "    }\n",
       "\n",
       "    .dataframe thead th {\n",
       "        text-align: right;\n",
       "    }\n",
       "</style>\n",
       "<table border=\"1\" class=\"dataframe\">\n",
       "  <thead>\n",
       "    <tr style=\"text-align: right;\">\n",
       "      <th></th>\n",
       "      <th>Tasks_Completed</th>\n",
       "      <th>Code_Review_Score</th>\n",
       "      <th>Project_Familiarity_Percent</th>\n",
       "      <th>Collaboration_Score</th>\n",
       "    </tr>\n",
       "  </thead>\n",
       "  <tbody>\n",
       "    <tr>\n",
       "      <th>0</th>\n",
       "      <td>20</td>\n",
       "      <td>8.7</td>\n",
       "      <td>53</td>\n",
       "      <td>8.5</td>\n",
       "    </tr>\n",
       "  </tbody>\n",
       "</table>\n",
       "</div>"
      ],
      "text/plain": [
       "   Tasks_Completed  Code_Review_Score  Project_Familiarity_Percent  \\\n",
       "0               20                8.7                           53   \n",
       "\n",
       "   Collaboration_Score  \n",
       "0                  8.5  "
      ]
     },
     "execution_count": 80,
     "metadata": {},
     "output_type": "execute_result"
    }
   ],
   "source": [
    "X_new"
   ]
  },
  {
   "cell_type": "code",
   "execution_count": 81,
   "id": "b1486528",
   "metadata": {},
   "outputs": [
    {
     "data": {
      "text/plain": [
       "90.87157951415082"
      ]
     },
     "execution_count": 81,
     "metadata": {},
     "output_type": "execute_result"
    }
   ],
   "source": [
    "result"
   ]
  },
  {
   "cell_type": "code",
   "execution_count": null,
   "id": "35ee67de",
   "metadata": {},
   "outputs": [],
   "source": []
  }
 ],
 "metadata": {
  "kernelspec": {
   "display_name": "Python 3 (ipykernel)",
   "language": "python",
   "name": "python3"
  },
  "language_info": {
   "codemirror_mode": {
    "name": "ipython",
    "version": 3
   },
   "file_extension": ".py",
   "mimetype": "text/x-python",
   "name": "python",
   "nbconvert_exporter": "python",
   "pygments_lexer": "ipython3",
   "version": "3.7.1"
  }
 },
 "nbformat": 4,
 "nbformat_minor": 5
}
