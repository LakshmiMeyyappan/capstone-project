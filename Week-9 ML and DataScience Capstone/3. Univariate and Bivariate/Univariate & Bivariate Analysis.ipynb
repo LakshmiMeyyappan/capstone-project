{
 "cells": [
  {
   "cell_type": "code",
   "execution_count": 1,
   "id": "2c97d3e5",
   "metadata": {},
   "outputs": [],
   "source": [
    "import pandas as pd\n",
    "import numpy as np\n",
    "\n",
    "from scipy.stats import zscore\n",
    "import seaborn as sns\n",
    "import matplotlib.pyplot as plt\n",
    "from matplotlib import pyplot\n",
    "from scipy.stats import norm\n",
    "from statsmodels.stats.outliers_influence import variance_inflation_factor\n",
    "from sklearn.preprocessing import StandardScaler\n",
    "from sklearn.decomposition import PCA\n",
    "\n",
    "from scipy.stats import ttest_ind\n",
    "from scipy.stats import ttest_rel"
   ]
  },
  {
   "cell_type": "code",
   "execution_count": null,
   "id": "d1817d77",
   "metadata": {},
   "outputs": [],
   "source": [
    "!pip install statsmodels"
   ]
  },
  {
   "cell_type": "code",
   "execution_count": 2,
   "id": "e414e6b3",
   "metadata": {},
   "outputs": [],
   "source": [
    "dataset = pd.read_csv(\"developer_productivity_dataset.csv\")"
   ]
  },
  {
   "cell_type": "code",
   "execution_count": 3,
   "id": "bf658ea2",
   "metadata": {},
   "outputs": [
    {
     "data": {
      "text/html": [
       "<div>\n",
       "<style scoped>\n",
       "    .dataframe tbody tr th:only-of-type {\n",
       "        vertical-align: middle;\n",
       "    }\n",
       "\n",
       "    .dataframe tbody tr th {\n",
       "        vertical-align: top;\n",
       "    }\n",
       "\n",
       "    .dataframe thead th {\n",
       "        text-align: right;\n",
       "    }\n",
       "</style>\n",
       "<table border=\"1\" class=\"dataframe\">\n",
       "  <thead>\n",
       "    <tr style=\"text-align: right;\">\n",
       "      <th></th>\n",
       "      <th>Developer_ID</th>\n",
       "      <th>Week_Number</th>\n",
       "      <th>Experience_Years</th>\n",
       "      <th>Role_Level</th>\n",
       "      <th>Programming_Language</th>\n",
       "      <th>Remote_Work</th>\n",
       "      <th>Hours_Worked</th>\n",
       "      <th>Tasks_Completed</th>\n",
       "      <th>Code_Review_Score</th>\n",
       "      <th>Project_Familiarity_Percent</th>\n",
       "      <th>Collaboration_Score</th>\n",
       "      <th>Meetings_Attended</th>\n",
       "      <th>Productivity_Score</th>\n",
       "    </tr>\n",
       "  </thead>\n",
       "  <tbody>\n",
       "    <tr>\n",
       "      <th>0</th>\n",
       "      <td>D0039</td>\n",
       "      <td>15</td>\n",
       "      <td>4.2</td>\n",
       "      <td>Senior</td>\n",
       "      <td>C++</td>\n",
       "      <td>False</td>\n",
       "      <td>52.8</td>\n",
       "      <td>7</td>\n",
       "      <td>7.4</td>\n",
       "      <td>52</td>\n",
       "      <td>5.2</td>\n",
       "      <td>1</td>\n",
       "      <td>56.999528</td>\n",
       "    </tr>\n",
       "    <tr>\n",
       "      <th>1</th>\n",
       "      <td>D0029</td>\n",
       "      <td>32</td>\n",
       "      <td>4.8</td>\n",
       "      <td>Junior</td>\n",
       "      <td>C++</td>\n",
       "      <td>False</td>\n",
       "      <td>34.5</td>\n",
       "      <td>15</td>\n",
       "      <td>8.1</td>\n",
       "      <td>61</td>\n",
       "      <td>7.2</td>\n",
       "      <td>9</td>\n",
       "      <td>77.129808</td>\n",
       "    </tr>\n",
       "    <tr>\n",
       "      <th>2</th>\n",
       "      <td>D0015</td>\n",
       "      <td>32</td>\n",
       "      <td>5.2</td>\n",
       "      <td>Mid</td>\n",
       "      <td>Python</td>\n",
       "      <td>True</td>\n",
       "      <td>46.9</td>\n",
       "      <td>19</td>\n",
       "      <td>6.6</td>\n",
       "      <td>58</td>\n",
       "      <td>4.6</td>\n",
       "      <td>4</td>\n",
       "      <td>74.278398</td>\n",
       "    </tr>\n",
       "    <tr>\n",
       "      <th>3</th>\n",
       "      <td>D0043</td>\n",
       "      <td>24</td>\n",
       "      <td>12.8</td>\n",
       "      <td>Junior</td>\n",
       "      <td>JavaScript</td>\n",
       "      <td>True</td>\n",
       "      <td>26.7</td>\n",
       "      <td>10</td>\n",
       "      <td>7.4</td>\n",
       "      <td>73</td>\n",
       "      <td>6.7</td>\n",
       "      <td>3</td>\n",
       "      <td>66.969578</td>\n",
       "    </tr>\n",
       "    <tr>\n",
       "      <th>4</th>\n",
       "      <td>D0008</td>\n",
       "      <td>41</td>\n",
       "      <td>2.5</td>\n",
       "      <td>Senior</td>\n",
       "      <td>JavaScript</td>\n",
       "      <td>False</td>\n",
       "      <td>29.6</td>\n",
       "      <td>15</td>\n",
       "      <td>8.7</td>\n",
       "      <td>53</td>\n",
       "      <td>8.5</td>\n",
       "      <td>7</td>\n",
       "      <td>83.842350</td>\n",
       "    </tr>\n",
       "    <tr>\n",
       "      <th>...</th>\n",
       "      <td>...</td>\n",
       "      <td>...</td>\n",
       "      <td>...</td>\n",
       "      <td>...</td>\n",
       "      <td>...</td>\n",
       "      <td>...</td>\n",
       "      <td>...</td>\n",
       "      <td>...</td>\n",
       "      <td>...</td>\n",
       "      <td>...</td>\n",
       "      <td>...</td>\n",
       "      <td>...</td>\n",
       "      <td>...</td>\n",
       "    </tr>\n",
       "    <tr>\n",
       "      <th>195</th>\n",
       "      <td>D0037</td>\n",
       "      <td>32</td>\n",
       "      <td>8.8</td>\n",
       "      <td>Junior</td>\n",
       "      <td>JavaScript</td>\n",
       "      <td>False</td>\n",
       "      <td>35.2</td>\n",
       "      <td>16</td>\n",
       "      <td>5.4</td>\n",
       "      <td>44</td>\n",
       "      <td>4.7</td>\n",
       "      <td>9</td>\n",
       "      <td>65.830453</td>\n",
       "    </tr>\n",
       "    <tr>\n",
       "      <th>196</th>\n",
       "      <td>D0033</td>\n",
       "      <td>47</td>\n",
       "      <td>11.2</td>\n",
       "      <td>Senior</td>\n",
       "      <td>Java</td>\n",
       "      <td>True</td>\n",
       "      <td>35.8</td>\n",
       "      <td>13</td>\n",
       "      <td>9.8</td>\n",
       "      <td>52</td>\n",
       "      <td>7.7</td>\n",
       "      <td>3</td>\n",
       "      <td>79.383883</td>\n",
       "    </tr>\n",
       "    <tr>\n",
       "      <th>197</th>\n",
       "      <td>D0042</td>\n",
       "      <td>22</td>\n",
       "      <td>11.6</td>\n",
       "      <td>Senior</td>\n",
       "      <td>C++</td>\n",
       "      <td>True</td>\n",
       "      <td>40.0</td>\n",
       "      <td>14</td>\n",
       "      <td>8.3</td>\n",
       "      <td>68</td>\n",
       "      <td>8.6</td>\n",
       "      <td>6</td>\n",
       "      <td>73.092362</td>\n",
       "    </tr>\n",
       "    <tr>\n",
       "      <th>198</th>\n",
       "      <td>D0044</td>\n",
       "      <td>23</td>\n",
       "      <td>12.4</td>\n",
       "      <td>Senior</td>\n",
       "      <td>Go</td>\n",
       "      <td>True</td>\n",
       "      <td>43.5</td>\n",
       "      <td>14</td>\n",
       "      <td>6.9</td>\n",
       "      <td>70</td>\n",
       "      <td>7.9</td>\n",
       "      <td>6</td>\n",
       "      <td>76.407934</td>\n",
       "    </tr>\n",
       "    <tr>\n",
       "      <th>199</th>\n",
       "      <td>D0024</td>\n",
       "      <td>2</td>\n",
       "      <td>11.3</td>\n",
       "      <td>Senior</td>\n",
       "      <td>Python</td>\n",
       "      <td>True</td>\n",
       "      <td>34.7</td>\n",
       "      <td>15</td>\n",
       "      <td>6.0</td>\n",
       "      <td>86</td>\n",
       "      <td>7.2</td>\n",
       "      <td>1</td>\n",
       "      <td>87.645806</td>\n",
       "    </tr>\n",
       "  </tbody>\n",
       "</table>\n",
       "<p>200 rows × 13 columns</p>\n",
       "</div>"
      ],
      "text/plain": [
       "    Developer_ID  Week_Number  Experience_Years Role_Level  \\\n",
       "0          D0039           15               4.2     Senior   \n",
       "1          D0029           32               4.8     Junior   \n",
       "2          D0015           32               5.2        Mid   \n",
       "3          D0043           24              12.8     Junior   \n",
       "4          D0008           41               2.5     Senior   \n",
       "..           ...          ...               ...        ...   \n",
       "195        D0037           32               8.8     Junior   \n",
       "196        D0033           47              11.2     Senior   \n",
       "197        D0042           22              11.6     Senior   \n",
       "198        D0044           23              12.4     Senior   \n",
       "199        D0024            2              11.3     Senior   \n",
       "\n",
       "    Programming_Language  Remote_Work  Hours_Worked  Tasks_Completed  \\\n",
       "0                    C++        False          52.8                7   \n",
       "1                    C++        False          34.5               15   \n",
       "2                 Python         True          46.9               19   \n",
       "3             JavaScript         True          26.7               10   \n",
       "4             JavaScript        False          29.6               15   \n",
       "..                   ...          ...           ...              ...   \n",
       "195           JavaScript        False          35.2               16   \n",
       "196                 Java         True          35.8               13   \n",
       "197                  C++         True          40.0               14   \n",
       "198                   Go         True          43.5               14   \n",
       "199               Python         True          34.7               15   \n",
       "\n",
       "     Code_Review_Score  Project_Familiarity_Percent  Collaboration_Score  \\\n",
       "0                  7.4                           52                  5.2   \n",
       "1                  8.1                           61                  7.2   \n",
       "2                  6.6                           58                  4.6   \n",
       "3                  7.4                           73                  6.7   \n",
       "4                  8.7                           53                  8.5   \n",
       "..                 ...                          ...                  ...   \n",
       "195                5.4                           44                  4.7   \n",
       "196                9.8                           52                  7.7   \n",
       "197                8.3                           68                  8.6   \n",
       "198                6.9                           70                  7.9   \n",
       "199                6.0                           86                  7.2   \n",
       "\n",
       "     Meetings_Attended  Productivity_Score  \n",
       "0                    1           56.999528  \n",
       "1                    9           77.129808  \n",
       "2                    4           74.278398  \n",
       "3                    3           66.969578  \n",
       "4                    7           83.842350  \n",
       "..                 ...                 ...  \n",
       "195                  9           65.830453  \n",
       "196                  3           79.383883  \n",
       "197                  6           73.092362  \n",
       "198                  6           76.407934  \n",
       "199                  1           87.645806  \n",
       "\n",
       "[200 rows x 13 columns]"
      ]
     },
     "execution_count": 3,
     "metadata": {},
     "output_type": "execute_result"
    }
   ],
   "source": [
    "dataset"
   ]
  },
  {
   "cell_type": "markdown",
   "id": "987a4910",
   "metadata": {},
   "source": [
    "### 1. What kind of relation between Code_Review_Score and Collaboration_Score?"
   ]
  },
  {
   "cell_type": "code",
   "execution_count": 4,
   "id": "e186e324",
   "metadata": {},
   "outputs": [
    {
     "name": "stdout",
     "output_type": "stream",
     "text": [
      "                    Code_Review_Score  Productivity_Score\n",
      "Code_Review_Score            1.000000            0.289582\n",
      "Productivity_Score           0.289582            1.000000\n"
     ]
    }
   ],
   "source": [
    "correlation = dataset[['Code_Review_Score', 'Productivity_Score']].corr()\n",
    "print(correlation)"
   ]
  },
  {
   "cell_type": "markdown",
   "id": "e3139f72",
   "metadata": {},
   "source": [
    "##### Correlation between Code_Review_Score and Productivity_Score is 0.28. Hence, it is a low degree of positive correlation (Directly propotional but only 28%)"
   ]
  },
  {
   "cell_type": "markdown",
   "id": "983083c6",
   "metadata": {},
   "source": [
    "### 2. Convert normal distribution to standard normal distribution for Code_Review_Score"
   ]
  },
  {
   "cell_type": "markdown",
   "id": "dff3e0eb",
   "metadata": {},
   "source": [
    "##### Normal Distribution"
   ]
  },
  {
   "cell_type": "code",
   "execution_count": 5,
   "id": "175a91d8",
   "metadata": {},
   "outputs": [
    {
     "name": "stderr",
     "output_type": "stream",
     "text": [
      "C:\\Anaconda\\envs\\mlai\\lib\\site-packages\\ipykernel_launcher.py:1: UserWarning: \n",
      "\n",
      "`distplot` is a deprecated function and will be removed in seaborn v0.14.0.\n",
      "\n",
      "Please adapt your code to use either `displot` (a figure-level function with\n",
      "similar flexibility) or `histplot` (an axes-level function for histograms).\n",
      "\n",
      "For a guide to updating your code to use the new functions, please see\n",
      "https://gist.github.com/mwaskom/de44147ed2974457ad6372750bbe5751\n",
      "\n",
      "  \"\"\"Entry point for launching an IPython kernel.\n"
     ]
    },
    {
     "data": {
      "text/plain": [
       "<matplotlib.axes._subplots.AxesSubplot at 0x25752539908>"
      ]
     },
     "execution_count": 5,
     "metadata": {},
     "output_type": "execute_result"
    },
    {
     "data": {
      "image/png": "[encoded data removed]",
      "text/plain": [
       "<Figure size 640x480 with 1 Axes>"
      ]
     },
     "metadata": {},
     "output_type": "display_data"
    }
   ],
   "source": [
    "sns.distplot(dataset[\"Code_Review_Score\"])"
   ]
  },
  {
   "cell_type": "markdown",
   "id": "4f245377",
   "metadata": {},
   "source": [
    "##### Standard Normal Distribution"
   ]
  },
  {
   "cell_type": "code",
   "execution_count": 6,
   "id": "eed2e72a",
   "metadata": {},
   "outputs": [],
   "source": [
    "def stdNBgraph(dataset):\n",
    "    # Coverted to standard Normal Distribution\n",
    "    mean=dataset.mean()\n",
    "    std=dataset.std()\n",
    "\n",
    "    values=[i for i in dataset]\n",
    "    z_score=[((j-mean)/std) for j in values]\n",
    "    sns.distplot(z_score,kde=True)"
   ]
  },
  {
   "cell_type": "code",
   "execution_count": 7,
   "id": "c7b52fd9",
   "metadata": {},
   "outputs": [
    {
     "name": "stderr",
     "output_type": "stream",
     "text": [
      "C:\\Anaconda\\envs\\mlai\\lib\\site-packages\\ipykernel_launcher.py:8: UserWarning: \n",
      "\n",
      "`distplot` is a deprecated function and will be removed in seaborn v0.14.0.\n",
      "\n",
      "Please adapt your code to use either `displot` (a figure-level function with\n",
      "similar flexibility) or `histplot` (an axes-level function for histograms).\n",
      "\n",
      "For a guide to updating your code to use the new functions, please see\n",
      "https://gist.github.com/mwaskom/de44147ed2974457ad6372750bbe5751\n",
      "\n",
      "  \n"
     ]
    },
    {
     "data": {
      "image/png": "[encoded data removed]",
      "text/plain": [
       "<Figure size 640x480 with 1 Axes>"
      ]
     },
     "metadata": {},
     "output_type": "display_data"
    }
   ],
   "source": [
    "stdNBgraph(dataset[\"Code_Review_Score\"])"
   ]
  },
  {
   "cell_type": "markdown",
   "id": "fafbac3b",
   "metadata": {},
   "source": [
    "### PROBABILITY DENSITY FUNCTION"
   ]
  },
  {
   "cell_type": "markdown",
   "id": "d26921ab",
   "metadata": {},
   "source": [
    "### 3. What is the probability Density Function of the Productivity_Score range from 60 to 80"
   ]
  },
  {
   "cell_type": "code",
   "execution_count": 8,
   "id": "8a869faf",
   "metadata": {},
   "outputs": [],
   "source": [
    "def get_pdf_probability(dataset,startrange,endrange):\n",
    "    \n",
    "    ax=sns.distplot(dataset,kde=True,kde_kws={'color':'blue'},color=\"Green\")\n",
    "    #To plot vertical line\n",
    "    pyplot.axvline(startrange,color='Red')\n",
    "    pyplot.axvline(endrange,color='Red')\n",
    "    \n",
    "    #generate a sample\n",
    "    sample=dataset\n",
    "    \n",
    "    #calculate mean and std deviation\n",
    "    sample_mean = sample.mean()\n",
    "    sample_std = sample.std()\n",
    "    print('Mean=%.3f, Standard Deviation=%.3f' % (sample_mean, sample_std))\n",
    "    \n",
    "    # define the normal distribution\n",
    "    dist = norm(sample_mean, sample_std)\n",
    "    \n",
    "    #Sample propability for a range of outcomes\n",
    "    values=[value for value in range(startrange,endrange)]\n",
    "    \n",
    "    #To calculate pdf\n",
    "    probabilities=[dist.pdf(value) for value in values]\n",
    "    prob=sum(probabilities)\n",
    "    print(\"The area between range({},{}):{}\".format(startrange,endrange,prob))\n",
    "    return prob"
   ]
  },
  {
   "cell_type": "code",
   "execution_count": 9,
   "id": "1c99ba14",
   "metadata": {},
   "outputs": [
    {
     "name": "stdout",
     "output_type": "stream",
     "text": [
      "Mean=70.665, Standard Deviation=12.122\n",
      "The area between range(60,80):0.5885708710450058\n"
     ]
    },
    {
     "name": "stderr",
     "output_type": "stream",
     "text": [
      "C:\\Anaconda\\envs\\mlai\\lib\\site-packages\\ipykernel_launcher.py:3: UserWarning: \n",
      "\n",
      "`distplot` is a deprecated function and will be removed in seaborn v0.14.0.\n",
      "\n",
      "Please adapt your code to use either `displot` (a figure-level function with\n",
      "similar flexibility) or `histplot` (an axes-level function for histograms).\n",
      "\n",
      "For a guide to updating your code to use the new functions, please see\n",
      "https://gist.github.com/mwaskom/de44147ed2974457ad6372750bbe5751\n",
      "\n",
      "  This is separate from the ipykernel package so we can avoid doing imports until\n"
     ]
    },
    {
     "data": {
      "text/plain": [
       "0.5885708710450058"
      ]
     },
     "execution_count": 9,
     "metadata": {},
     "output_type": "execute_result"
    },
    {
     "data": {
      "image/png": "[encoded data removed]",
      "text/plain": [
       "<Figure size 640x480 with 1 Axes>"
      ]
     },
     "metadata": {},
     "output_type": "display_data"
    }
   ],
   "source": [
    "get_pdf_probability(dataset[\"Productivity_Score\"],60,80)"
   ]
  },
  {
   "cell_type": "markdown",
   "id": "8b4032ca",
   "metadata": {},
   "source": [
    "## BIVARIATE ANALYSIS"
   ]
  },
  {
   "cell_type": "code",
   "execution_count": 10,
   "id": "fca98ac0",
   "metadata": {},
   "outputs": [
    {
     "name": "stdout",
     "output_type": "stream",
     "text": [
      "<class 'pandas.core.frame.DataFrame'>\n",
      "RangeIndex: 200 entries, 0 to 199\n",
      "Data columns (total 13 columns):\n",
      "Developer_ID                   200 non-null object\n",
      "Week_Number                    200 non-null int64\n",
      "Experience_Years               200 non-null float64\n",
      "Role_Level                     200 non-null object\n",
      "Programming_Language           200 non-null object\n",
      "Remote_Work                    200 non-null bool\n",
      "Hours_Worked                   200 non-null float64\n",
      "Tasks_Completed                200 non-null int64\n",
      "Code_Review_Score              200 non-null float64\n",
      "Project_Familiarity_Percent    200 non-null int64\n",
      "Collaboration_Score            200 non-null float64\n",
      "Meetings_Attended              200 non-null int64\n",
      "Productivity_Score             200 non-null float64\n",
      "dtypes: bool(1), float64(5), int64(4), object(3)\n",
      "memory usage: 19.1+ KB\n"
     ]
    }
   ],
   "source": [
    "dataset.info()"
   ]
  },
  {
   "cell_type": "code",
   "execution_count": 11,
   "id": "9cc26b02",
   "metadata": {},
   "outputs": [
    {
     "name": "stdout",
     "output_type": "stream",
     "text": [
      "                             Week_Number  Experience_Years  Hours_Worked  \\\n",
      "Week_Number                   227.047136          1.241176     -1.930910   \n",
      "Experience_Years                1.241176         17.497498     -0.500660   \n",
      "Hours_Worked                   -1.930910         -0.500660     27.370422   \n",
      "Tasks_Completed                 0.557186          1.377106     -0.549377   \n",
      "Code_Review_Score               2.778111          0.301292     -0.641954   \n",
      "Project_Familiarity_Percent   -20.998693         -0.544030     -3.793101   \n",
      "Collaboration_Score             1.646030         -0.095286     -1.460186   \n",
      "Meetings_Attended               4.231407          0.070930      1.532299   \n",
      "Productivity_Score              3.172364          3.322655     -7.444691   \n",
      "\n",
      "                             Tasks_Completed  Code_Review_Score  \\\n",
      "Week_Number                         0.557186           2.778111   \n",
      "Experience_Years                    1.377106           0.301292   \n",
      "Hours_Worked                       -0.549377          -0.641954   \n",
      "Tasks_Completed                    23.763216          -0.006312   \n",
      "Code_Review_Score                  -0.006312           1.800338   \n",
      "Project_Familiarity_Percent       -15.151960          -2.539256   \n",
      "Collaboration_Score                -0.559497           0.112352   \n",
      "Meetings_Attended                   0.096985          -0.156583   \n",
      "Productivity_Score                 43.615249           4.710017   \n",
      "\n",
      "                             Project_Familiarity_Percent  Collaboration_Score  \\\n",
      "Week_Number                                   -20.998693             1.646030   \n",
      "Experience_Years                               -0.544030            -0.095286   \n",
      "Hours_Worked                                   -3.793101            -1.460186   \n",
      "Tasks_Completed                               -15.151960            -0.559497   \n",
      "Code_Review_Score                              -2.539256             0.112352   \n",
      "Project_Familiarity_Percent                   295.150854             1.359899   \n",
      "Collaboration_Score                             1.359899             3.166935   \n",
      "Meetings_Attended                              -4.558543             0.004271   \n",
      "Productivity_Score                             39.912535             5.292012   \n",
      "\n",
      "                             Meetings_Attended  Productivity_Score  \n",
      "Week_Number                           4.231407            3.172364  \n",
      "Experience_Years                      0.070930            3.322655  \n",
      "Hours_Worked                          1.532299           -7.444691  \n",
      "Tasks_Completed                       0.096985           43.615249  \n",
      "Code_Review_Score                    -0.156583            4.710017  \n",
      "Project_Familiarity_Percent          -4.558543           39.912535  \n",
      "Collaboration_Score                   0.004271            5.292012  \n",
      "Meetings_Attended                     7.788317           -5.867441  \n",
      "Productivity_Score                   -5.867441          146.942209  \n"
     ]
    }
   ],
   "source": [
    "numeric_dataset = dataset.select_dtypes(include=['float64', 'int64'])\n",
    "\n",
    "# Now compute the covariance matrix\n",
    "cov_matrix = numeric_dataset.cov()\n",
    "print(cov_matrix)"
   ]
  },
  {
   "cell_type": "code",
   "execution_count": 12,
   "id": "660eb596",
   "metadata": {},
   "outputs": [
    {
     "data": {
      "text/html": [
       "<div>\n",
       "<style scoped>\n",
       "    .dataframe tbody tr th:only-of-type {\n",
       "        vertical-align: middle;\n",
       "    }\n",
       "\n",
       "    .dataframe tbody tr th {\n",
       "        vertical-align: top;\n",
       "    }\n",
       "\n",
       "    .dataframe thead th {\n",
       "        text-align: right;\n",
       "    }\n",
       "</style>\n",
       "<table border=\"1\" class=\"dataframe\">\n",
       "  <thead>\n",
       "    <tr style=\"text-align: right;\">\n",
       "      <th></th>\n",
       "      <th>Week_Number</th>\n",
       "      <th>Experience_Years</th>\n",
       "      <th>Remote_Work</th>\n",
       "      <th>Hours_Worked</th>\n",
       "      <th>Tasks_Completed</th>\n",
       "      <th>Code_Review_Score</th>\n",
       "      <th>Project_Familiarity_Percent</th>\n",
       "      <th>Collaboration_Score</th>\n",
       "      <th>Meetings_Attended</th>\n",
       "      <th>Productivity_Score</th>\n",
       "    </tr>\n",
       "  </thead>\n",
       "  <tbody>\n",
       "    <tr>\n",
       "      <th>Week_Number</th>\n",
       "      <td>1.000000</td>\n",
       "      <td>0.019692</td>\n",
       "      <td>-0.075236</td>\n",
       "      <td>-0.024494</td>\n",
       "      <td>0.007586</td>\n",
       "      <td>0.137409</td>\n",
       "      <td>-0.081117</td>\n",
       "      <td>0.061385</td>\n",
       "      <td>0.100625</td>\n",
       "      <td>0.017368</td>\n",
       "    </tr>\n",
       "    <tr>\n",
       "      <th>Experience_Years</th>\n",
       "      <td>0.019692</td>\n",
       "      <td>1.000000</td>\n",
       "      <td>0.124458</td>\n",
       "      <td>-0.022878</td>\n",
       "      <td>0.067535</td>\n",
       "      <td>0.053681</td>\n",
       "      <td>-0.007570</td>\n",
       "      <td>-0.012800</td>\n",
       "      <td>0.006076</td>\n",
       "      <td>0.065528</td>\n",
       "    </tr>\n",
       "    <tr>\n",
       "      <th>Remote_Work</th>\n",
       "      <td>-0.075236</td>\n",
       "      <td>0.124458</td>\n",
       "      <td>1.000000</td>\n",
       "      <td>-0.045188</td>\n",
       "      <td>0.064535</td>\n",
       "      <td>0.002728</td>\n",
       "      <td>0.051259</td>\n",
       "      <td>0.086242</td>\n",
       "      <td>-0.070995</td>\n",
       "      <td>0.146141</td>\n",
       "    </tr>\n",
       "    <tr>\n",
       "      <th>Hours_Worked</th>\n",
       "      <td>-0.024494</td>\n",
       "      <td>-0.022878</td>\n",
       "      <td>-0.045188</td>\n",
       "      <td>1.000000</td>\n",
       "      <td>-0.021542</td>\n",
       "      <td>-0.091450</td>\n",
       "      <td>-0.042202</td>\n",
       "      <td>-0.156837</td>\n",
       "      <td>0.104950</td>\n",
       "      <td>-0.117390</td>\n",
       "    </tr>\n",
       "    <tr>\n",
       "      <th>Tasks_Completed</th>\n",
       "      <td>0.007586</td>\n",
       "      <td>0.067535</td>\n",
       "      <td>0.064535</td>\n",
       "      <td>-0.021542</td>\n",
       "      <td>1.000000</td>\n",
       "      <td>-0.000965</td>\n",
       "      <td>-0.180923</td>\n",
       "      <td>-0.064495</td>\n",
       "      <td>0.007129</td>\n",
       "      <td>0.738095</td>\n",
       "    </tr>\n",
       "    <tr>\n",
       "      <th>Code_Review_Score</th>\n",
       "      <td>0.137409</td>\n",
       "      <td>0.053681</td>\n",
       "      <td>0.002728</td>\n",
       "      <td>-0.091450</td>\n",
       "      <td>-0.000965</td>\n",
       "      <td>1.000000</td>\n",
       "      <td>-0.110156</td>\n",
       "      <td>0.047053</td>\n",
       "      <td>-0.041816</td>\n",
       "      <td>0.289582</td>\n",
       "    </tr>\n",
       "    <tr>\n",
       "      <th>Project_Familiarity_Percent</th>\n",
       "      <td>-0.081117</td>\n",
       "      <td>-0.007570</td>\n",
       "      <td>0.051259</td>\n",
       "      <td>-0.042202</td>\n",
       "      <td>-0.180923</td>\n",
       "      <td>-0.110156</td>\n",
       "      <td>1.000000</td>\n",
       "      <td>0.044480</td>\n",
       "      <td>-0.095078</td>\n",
       "      <td>0.191652</td>\n",
       "    </tr>\n",
       "    <tr>\n",
       "      <th>Collaboration_Score</th>\n",
       "      <td>0.061385</td>\n",
       "      <td>-0.012800</td>\n",
       "      <td>0.086242</td>\n",
       "      <td>-0.156837</td>\n",
       "      <td>-0.064495</td>\n",
       "      <td>0.047053</td>\n",
       "      <td>0.044480</td>\n",
       "      <td>1.000000</td>\n",
       "      <td>0.000860</td>\n",
       "      <td>0.245317</td>\n",
       "    </tr>\n",
       "    <tr>\n",
       "      <th>Meetings_Attended</th>\n",
       "      <td>0.100625</td>\n",
       "      <td>0.006076</td>\n",
       "      <td>-0.070995</td>\n",
       "      <td>0.104950</td>\n",
       "      <td>0.007129</td>\n",
       "      <td>-0.041816</td>\n",
       "      <td>-0.095078</td>\n",
       "      <td>0.000860</td>\n",
       "      <td>1.000000</td>\n",
       "      <td>-0.173442</td>\n",
       "    </tr>\n",
       "    <tr>\n",
       "      <th>Productivity_Score</th>\n",
       "      <td>0.017368</td>\n",
       "      <td>0.065528</td>\n",
       "      <td>0.146141</td>\n",
       "      <td>-0.117390</td>\n",
       "      <td>0.738095</td>\n",
       "      <td>0.289582</td>\n",
       "      <td>0.191652</td>\n",
       "      <td>0.245317</td>\n",
       "      <td>-0.173442</td>\n",
       "      <td>1.000000</td>\n",
       "    </tr>\n",
       "  </tbody>\n",
       "</table>\n",
       "</div>"
      ],
      "text/plain": [
       "                             Week_Number  Experience_Years  Remote_Work  \\\n",
       "Week_Number                     1.000000          0.019692    -0.075236   \n",
       "Experience_Years                0.019692          1.000000     0.124458   \n",
       "Remote_Work                    -0.075236          0.124458     1.000000   \n",
       "Hours_Worked                   -0.024494         -0.022878    -0.045188   \n",
       "Tasks_Completed                 0.007586          0.067535     0.064535   \n",
       "Code_Review_Score               0.137409          0.053681     0.002728   \n",
       "Project_Familiarity_Percent    -0.081117         -0.007570     0.051259   \n",
       "Collaboration_Score             0.061385         -0.012800     0.086242   \n",
       "Meetings_Attended               0.100625          0.006076    -0.070995   \n",
       "Productivity_Score              0.017368          0.065528     0.146141   \n",
       "\n",
       "                             Hours_Worked  Tasks_Completed  Code_Review_Score  \\\n",
       "Week_Number                     -0.024494         0.007586           0.137409   \n",
       "Experience_Years                -0.022878         0.067535           0.053681   \n",
       "Remote_Work                     -0.045188         0.064535           0.002728   \n",
       "Hours_Worked                     1.000000        -0.021542          -0.091450   \n",
       "Tasks_Completed                 -0.021542         1.000000          -0.000965   \n",
       "Code_Review_Score               -0.091450        -0.000965           1.000000   \n",
       "Project_Familiarity_Percent     -0.042202        -0.180923          -0.110156   \n",
       "Collaboration_Score             -0.156837        -0.064495           0.047053   \n",
       "Meetings_Attended                0.104950         0.007129          -0.041816   \n",
       "Productivity_Score              -0.117390         0.738095           0.289582   \n",
       "\n",
       "                             Project_Familiarity_Percent  Collaboration_Score  \\\n",
       "Week_Number                                    -0.081117             0.061385   \n",
       "Experience_Years                               -0.007570            -0.012800   \n",
       "Remote_Work                                     0.051259             0.086242   \n",
       "Hours_Worked                                   -0.042202            -0.156837   \n",
       "Tasks_Completed                                -0.180923            -0.064495   \n",
       "Code_Review_Score                              -0.110156             0.047053   \n",
       "Project_Familiarity_Percent                     1.000000             0.044480   \n",
       "Collaboration_Score                             0.044480             1.000000   \n",
       "Meetings_Attended                              -0.095078             0.000860   \n",
       "Productivity_Score                              0.191652             0.245317   \n",
       "\n",
       "                             Meetings_Attended  Productivity_Score  \n",
       "Week_Number                           0.100625            0.017368  \n",
       "Experience_Years                      0.006076            0.065528  \n",
       "Remote_Work                          -0.070995            0.146141  \n",
       "Hours_Worked                          0.104950           -0.117390  \n",
       "Tasks_Completed                       0.007129            0.738095  \n",
       "Code_Review_Score                    -0.041816            0.289582  \n",
       "Project_Familiarity_Percent          -0.095078            0.191652  \n",
       "Collaboration_Score                   0.000860            0.245317  \n",
       "Meetings_Attended                     1.000000           -0.173442  \n",
       "Productivity_Score                   -0.173442            1.000000  "
      ]
     },
     "execution_count": 12,
     "metadata": {},
     "output_type": "execute_result"
    }
   ],
   "source": [
    "dataset.corr()"
   ]
  },
  {
   "cell_type": "markdown",
   "id": "e90ad992",
   "metadata": {},
   "source": [
    "### 4. What kind of relation between Project_Familiarity_Percent & Productivity_Score?"
   ]
  },
  {
   "cell_type": "code",
   "execution_count": 14,
   "id": "d38cfdc7",
   "metadata": {},
   "outputs": [
    {
     "name": "stdout",
     "output_type": "stream",
     "text": [
      "Correlation is 0.19165228601145298\n"
     ]
    }
   ],
   "source": [
    "correlation = dataset['Project_Familiarity_Percent'].corr(dataset['Productivity_Score'])\n",
    "print(\"Correlation is\",correlation)"
   ]
  },
  {
   "cell_type": "markdown",
   "id": "a6b73ae8",
   "metadata": {},
   "source": [
    "##### Correlation between Project_Familiarity_Percent and Productivity_Score is 0.19. Hence, it is a weak positive correlation (Directly propotional but 0nly 19%, the relation is not strong)"
   ]
  },
  {
   "cell_type": "markdown",
   "id": "166b7d88",
   "metadata": {},
   "source": [
    "### 5. Which Programming_Language is getting the minimum Productivity_Score?"
   ]
  },
  {
   "cell_type": "code",
   "execution_count": 15,
   "id": "aeb45f18",
   "metadata": {},
   "outputs": [
    {
     "name": "stdout",
     "output_type": "stream",
     "text": [
      "Minimum productivity score is: 47.184336947710754\n",
      "programming language(s) has Minimum productivity score:\n",
      "- Java\n"
     ]
    }
   ],
   "source": [
    "min_score = dataset['Productivity_Score'].min()\n",
    "\n",
    "# Find all rows with that minimum salary\n",
    "min_score_rows = dataset[dataset['Productivity_Score'] == min_score]\n",
    "\n",
    "# Get unique specializations from those rows\n",
    "prog_lang = min_score_rows['Programming_Language'].unique()\n",
    "\n",
    "print(f\"Minimum productivity score is: {min_score}\")\n",
    "#print(\"Minimum salary is:\", min_salary)\n",
    "#print(\"Minimum salary is: \" + str(min_salary)) \n",
    "\n",
    "print(\"programming language(s) has Minimum productivity score:\")\n",
    "\n",
    "for lang in prog_lang:\n",
    "    print(f\"- {lang}\")"
   ]
  },
  {
   "cell_type": "markdown",
   "id": "589d06c7",
   "metadata": {},
   "source": [
    "### 6. How many of them getting above 90 Productivity_Score?"
   ]
  },
  {
   "cell_type": "code",
   "execution_count": 16,
   "id": "4f424613",
   "metadata": {},
   "outputs": [
    {
     "name": "stdout",
     "output_type": "stream",
     "text": [
      "11 of them were getting Productivity_Score of above 90\n"
     ]
    }
   ],
   "source": [
    "max_Productivity_Score = dataset[dataset['Productivity_Score'] > 90]\n",
    "print(len(max_Productivity_Score) , \"of them were getting Productivity_Score of above 90\")"
   ]
  },
  {
   "cell_type": "markdown",
   "id": "640ce133",
   "metadata": {},
   "source": [
    "### MULTICOLLINEARITY"
   ]
  },
  {
   "cell_type": "code",
   "execution_count": 17,
   "id": "bfd0f709",
   "metadata": {},
   "outputs": [
    {
     "name": "stdout",
     "output_type": "stream",
     "text": [
      "                       Feature         VIF\n",
      "0                  Week_Number    4.506293\n",
      "1             Experience_Years    4.395810\n",
      "2                 Hours_Worked   31.337085\n",
      "3              Tasks_Completed   35.190182\n",
      "4            Code_Review_Score   46.131662\n",
      "5  Project_Familiarity_Percent   28.424435\n",
      "6          Collaboration_Score   22.234710\n",
      "7            Meetings_Attended    4.154407\n",
      "8           Productivity_Score  236.043365\n"
     ]
    }
   ],
   "source": [
    "# Select only numeric features for VIF\n",
    "X = dataset.select_dtypes(include=['float64', 'int64'])\n",
    "#X = add_constant(X)  # Adds intercept term\n",
    "\n",
    "vif_data = pd.DataFrame()\n",
    "vif_data['Feature'] = X.columns\n",
    "vif_data['VIF'] = [variance_inflation_factor(X.values, i) for i in range(X.shape[1])]\n",
    "\n",
    "print(vif_data)"
   ]
  },
  {
   "cell_type": "code",
   "execution_count": 18,
   "id": "9af850d9",
   "metadata": {},
   "outputs": [],
   "source": [
    "x = dataset.select_dtypes(include=['float64', 'int64'])  # only numeric\n",
    "scaler = StandardScaler()\n",
    "X_scaled = scaler.fit_transform(x)\n",
    "\n",
    "pca = PCA()\n",
    "\n",
    "X_pca= pca.fit_transform(X_scaled)"
   ]
  },
  {
   "cell_type": "code",
   "execution_count": 19,
   "id": "555835b3",
   "metadata": {},
   "outputs": [
    {
     "data": {
      "text/plain": [
       "array([[ 1.97500558, -0.5930347 , -1.41061631, ..., -1.27003118,\n",
       "        -1.28704216, -0.09409431],\n",
       "       [-0.80398371, -0.88547276,  0.69828425, ...,  0.2484964 ,\n",
       "         1.31239268, -0.04323919],\n",
       "       [-0.33300495, -1.62191702, -1.78327542, ...,  0.57848668,\n",
       "        -0.58970052,  0.20427734],\n",
       "       ...,\n",
       "       [-0.78218514, -0.23621327,  0.32772604, ..., -0.98285895,\n",
       "         0.11543607,  0.46484154],\n",
       "       [-0.50096542, -0.41908119, -0.56970635, ..., -0.65355456,\n",
       "        -0.39204938, -0.00650769],\n",
       "       [-1.52537996,  1.88289532, -1.79205623, ...,  0.13022252,\n",
       "        -0.08775907, -0.33109529]])"
      ]
     },
     "execution_count": 19,
     "metadata": {},
     "output_type": "execute_result"
    }
   ],
   "source": [
    "X_pca"
   ]
  },
  {
   "cell_type": "code",
   "execution_count": 20,
   "id": "4251277d",
   "metadata": {},
   "outputs": [
    {
     "name": "stdout",
     "output_type": "stream",
     "text": [
      "        PC1       PC2       PC3       PC4       PC5       PC6       PC7  \\\n",
      "0  1.975006 -0.593035 -1.410616  0.700472 -1.530104  1.077223 -1.270031   \n",
      "1 -0.803984 -0.885473  0.698284 -1.107619 -0.202109 -0.595692  0.248496   \n",
      "2 -0.333005 -1.621917 -1.783275 -0.338990 -0.689170  0.631933  0.578487   \n",
      "3 -0.282754  1.194421  0.713542  1.398737  0.557203 -1.510731  1.053876   \n",
      "4 -1.721378 -0.442899  1.752841 -1.199281 -1.083433 -0.931299  0.525795   \n",
      "\n",
      "        PC8       PC9  \n",
      "0 -1.287042 -0.094094  \n",
      "1  1.312393 -0.043239  \n",
      "2 -0.589701  0.204277  \n",
      "3  0.617646  0.100392  \n",
      "4  0.909417 -0.235515  \n"
     ]
    }
   ],
   "source": [
    "component_names = [f'PC{i+1}' for i in range(X_pca.shape[1])]\n",
    "df_pca = pd.DataFrame(X_pca, columns=component_names)\n",
    "\n",
    "print(df_pca.head())"
   ]
  },
  {
   "cell_type": "markdown",
   "id": "fd1f2f78",
   "metadata": {},
   "source": [
    "### T-TEST"
   ]
  },
  {
   "cell_type": "markdown",
   "id": "093e467a",
   "metadata": {},
   "source": [
    "### Independent sample - unpaired T-Test"
   ]
  },
  {
   "cell_type": "code",
   "execution_count": 21,
   "id": "4cd77cc2",
   "metadata": {},
   "outputs": [
    {
     "data": {
      "text/plain": [
       "Ttest_indResult(statistic=0.5985549442091983, pvalue=0.5504801543039454)"
      ]
     },
     "execution_count": 21,
     "metadata": {},
     "output_type": "execute_result"
    }
   ],
   "source": [
    "#dataset=dataset.dropna()\n",
    "senior=dataset[dataset['Role_Level']=='Senior']['Productivity_Score']\n",
    "junior=dataset[dataset['Role_Level']=='Junior']['Productivity_Score']\n",
    "ttest_ind(senior,junior)"
   ]
  },
  {
   "cell_type": "markdown",
   "id": "bfd7932e",
   "metadata": {},
   "source": [
    "#### Hence there is no similarity between Role_level of senior and junior with their productivity scores."
   ]
  },
  {
   "cell_type": "code",
   "execution_count": 23,
   "id": "df51a36d",
   "metadata": {},
   "outputs": [
    {
     "data": {
      "text/plain": [
       "Ttest_indResult(statistic=2.0787102709835383, pvalue=0.03893273409786029)"
      ]
     },
     "execution_count": 23,
     "metadata": {},
     "output_type": "execute_result"
    }
   ],
   "source": [
    "#dataset=dataset.dropna()\n",
    "true=dataset[dataset['Remote_Work']==True]['Productivity_Score']\n",
    "false=dataset[dataset['Remote_Work']==False]['Productivity_Score']\n",
    "ttest_ind(true,false)"
   ]
  },
  {
   "cell_type": "markdown",
   "id": "99d58cd6",
   "metadata": {},
   "source": [
    "#### Hence there is a statistically significant difference between Remote_Work - True and False with their productivity scores."
   ]
  },
  {
   "cell_type": "markdown",
   "id": "01a579b7",
   "metadata": {},
   "source": [
    "### Dependent sample - paired T - Test"
   ]
  },
  {
   "cell_type": "markdown",
   "id": "b9bab12d",
   "metadata": {},
   "source": [
    "### 7. Is there is any similarity between experience years and project familiarity of senior role level? find using T-Test"
   ]
  },
  {
   "cell_type": "code",
   "execution_count": 24,
   "id": "d2b5c3e1",
   "metadata": {},
   "outputs": [
    {
     "name": "stdout",
     "output_type": "stream",
     "text": [
      "statistic -28.14134687845898 p-value: 0.0\n"
     ]
    }
   ],
   "source": [
    "senior=dataset[dataset['Role_Level']=='Senior']['Experience_Years']\n",
    "senior1=dataset[dataset['Role_Level']=='Senior']['Project_Familiarity_Percent']\n",
    "\n",
    "ttest_res = ttest_rel(senior,senior1)\n",
    "#ttest_res\n",
    "print(\"statistic\",ttest_res.statistic,\"p-value:\", round(ttest_res.pvalue, 4)) \n"
   ]
  },
  {
   "cell_type": "markdown",
   "id": "14961402",
   "metadata": {},
   "source": [
    "#### Hence there is a similarity between experience years and project familiarity of senior"
   ]
  },
  {
   "cell_type": "markdown",
   "id": "ae856251",
   "metadata": {},
   "source": [
    "### HYPOTHESIS TESTING"
   ]
  },
  {
   "cell_type": "markdown",
   "id": "aabaf627",
   "metadata": {},
   "source": [
    "### 8. Test the similarity between the Role_Level(Junior) with respect to Experience_Years and Project_Familiarity_Percent at significance level of 5%.(Make decision using Hypothesis Testing)"
   ]
  },
  {
   "cell_type": "markdown",
   "id": "e2ebb7ad",
   "metadata": {},
   "source": [
    "#### Statement : Test whether Experience_Years of Junior and Project_Familiarity_Percent of Junior is same?"
   ]
  },
  {
   "cell_type": "markdown",
   "id": "ed6c5381",
   "metadata": {},
   "source": [
    "##### Null hypothesis - There is no similarity between Experience_Years of Junior and Project_Familiarity_Percent of Junior"
   ]
  },
  {
   "cell_type": "code",
   "execution_count": 25,
   "id": "e40981c7",
   "metadata": {},
   "outputs": [
    {
     "name": "stdout",
     "output_type": "stream",
     "text": [
      "statistic -29.73083577705385 p-value: 0.0\n"
     ]
    }
   ],
   "source": [
    "junior = dataset[dataset['Role_Level']=='Junior']['Experience_Years']\n",
    "junior1 = dataset[dataset['Role_Level']=='Junior']['Project_Familiarity_Percent']\n",
    "ttest_res1 = ttest_rel(junior,junior1)\n",
    "#ttest_res\n",
    "print(\"statistic\",ttest_res1.statistic,\"p-value:\", round(ttest_res1.pvalue, 4)) \n"
   ]
  },
  {
   "cell_type": "markdown",
   "id": "9c54419d",
   "metadata": {},
   "source": [
    "###### Actual condition formula is if p<0.05 - Reject Null hypothesis.\n",
    "###### For the above statement the p value is lesser the 0.05(0.00<0,05). \n",
    "###### Hence we reject Null hypothesis and accept alternate hypothesis (there is a similarity between  Experience_Years of Junior and Project_Familiarity_Percent of Junior ) for the above statement."
   ]
  },
  {
   "cell_type": "markdown",
   "id": "eb721910",
   "metadata": {},
   "source": [
    "### 9. Which parameter is highly correlated with Productivity_Score?"
   ]
  },
  {
   "cell_type": "code",
   "execution_count": 26,
   "id": "e9fcb09b",
   "metadata": {},
   "outputs": [
    {
     "name": "stdout",
     "output_type": "stream",
     "text": [
      "Week_Number                    0.017368\n",
      "Experience_Years               0.065528\n",
      "Remote_Work                    0.146141\n",
      "Hours_Worked                  -0.117390\n",
      "Tasks_Completed                0.738095\n",
      "Code_Review_Score              0.289582\n",
      "Project_Familiarity_Percent    0.191652\n",
      "Collaboration_Score            0.245317\n",
      "Meetings_Attended             -0.173442\n",
      "Name: Productivity_Score, dtype: float64\n",
      "\n",
      "Most highly correlated parameter with Productivity_Score: Tasks_Completed\n"
     ]
    }
   ],
   "source": [
    "correlations = dataset.corr()['Productivity_Score'].drop('Productivity_Score')\n",
    "print(correlations)\n",
    "print(\"\\nMost highly correlated parameter with Productivity_Score:\", correlations.idxmax())"
   ]
  },
  {
   "cell_type": "markdown",
   "id": "234fef11",
   "metadata": {},
   "source": [
    "### 10. Find the relation between Tasks_Completed, Collaboration_Score vs Productivity_Score by plotting any graph"
   ]
  },
  {
   "cell_type": "code",
   "execution_count": 27,
   "id": "52551884",
   "metadata": {},
   "outputs": [
    {
     "data": {
      "image/png": "[encoded data removed]",
      "text/plain": [
       "<Figure size 640x480 with 1 Axes>"
      ]
     },
     "metadata": {},
     "output_type": "display_data"
    }
   ],
   "source": [
    "\n",
    "df_clean = dataset[['Tasks_Completed', 'Collaboration_Score', 'Productivity_Score']]\n",
    "\n",
    "# Create the pairplot\n",
    "sns.barplot(df_clean)\n",
    "plt.suptitle('Pairplot: Tasks_Completed, Collaboration_Score vs Productivity_Score', y=1.02)\n",
    "plt.show()"
   ]
  },
  {
   "cell_type": "markdown",
   "id": "eaf14ede",
   "metadata": {},
   "source": [
    "### ANAVO : Analysis of Variance"
   ]
  },
  {
   "cell_type": "markdown",
   "id": "3eed163c",
   "metadata": {},
   "source": [
    "### 11. Test the Analysis of Variance between Experience_Years ,Code_Review_Score and Collaboration_Score at signifance level 5%.(Make decision using Hypothesis Testing)"
   ]
  },
  {
   "cell_type": "markdown",
   "id": "3edc065d",
   "metadata": {},
   "source": [
    "### One way classification\n"
   ]
  },
  {
   "cell_type": "markdown",
   "id": "fceb7631",
   "metadata": {},
   "source": [
    "#### Statement: Is there any difference between Experience_Years ,Code_Review_Score and Collaboration_Score\n"
   ]
  },
  {
   "cell_type": "markdown",
   "id": "58debdd6",
   "metadata": {},
   "source": [
    "#### Solution:\n",
    "H0 - There is no significant difference among the statement\n",
    "\n",
    "H1 - There is a significant difference among the statement"
   ]
  },
  {
   "cell_type": "code",
   "execution_count": 28,
   "id": "3b788ee7",
   "metadata": {},
   "outputs": [
    {
     "data": {
      "text/plain": [
       "F_onewayResult(statistic=4.388373272957543, pvalue=0.012824109460560186)"
      ]
     },
     "execution_count": 28,
     "metadata": {},
     "output_type": "execute_result"
    }
   ],
   "source": [
    "import scipy.stats as stats\n",
    "\n",
    "stats.f_oneway(dataset['Experience_Years'],dataset['Code_Review_Score'],dataset['Collaboration_Score'])"
   ]
  },
  {
   "cell_type": "markdown",
   "id": "6ea0505c",
   "metadata": {},
   "source": [
    "##### Conclusion:"
   ]
  },
  {
   "cell_type": "markdown",
   "id": "40d33596",
   "metadata": {},
   "source": [
    "##### pvalue<0.05 - 0.01<0.05 - Reject null hypothesis \n",
    "##### For the above stmt H0 is rejected - reject null hypothesis \n",
    "##### Hence there is a significant difference between Experience_Years ,Code_Review_Score and Collaboration_Score"
   ]
  },
  {
   "cell_type": "markdown",
   "id": "bc1cb33d",
   "metadata": {},
   "source": [
    "### 12. Is there any impact of Programming_Language and Remote_Work on Productivity_Score?"
   ]
  },
  {
   "cell_type": "markdown",
   "id": "79062072",
   "metadata": {},
   "source": [
    "### Two way classification"
   ]
  },
  {
   "cell_type": "markdown",
   "id": "be36b466",
   "metadata": {},
   "source": [
    "##### Statement: the impact of Programming_Language and Remote_Work on Productivity_Score"
   ]
  },
  {
   "cell_type": "markdown",
   "id": "25ad51b3",
   "metadata": {},
   "source": [
    "#### Solution:\n",
    "H0 - There is no significant difference among the statement\n",
    "\n",
    "H1 - There is a significant difference among the statement"
   ]
  },
  {
   "cell_type": "code",
   "execution_count": 29,
   "id": "1b6ed88e",
   "metadata": {},
   "outputs": [],
   "source": [
    "import statsmodels.api as sm\n",
    "from statsmodels.formula.api import ols\n",
    "from statsmodels.stats.anova import anova_lm\n",
    "df=dataset\n",
    "#df = pd.DataFrame(dataset['gender'],dataset['salary'])\n",
    "model = ols('Productivity_Score ~ C(Programming_Language) + C(Remote_Work) + C(Programming_Language):C(Remote_Work)', data=df).fit()\n",
    "anova_results = anova_lm(model, type=2)"
   ]
  },
  {
   "cell_type": "code",
   "execution_count": 30,
   "id": "db5bb33f",
   "metadata": {},
   "outputs": [
    {
     "data": {
      "text/html": [
       "<div>\n",
       "<style scoped>\n",
       "    .dataframe tbody tr th:only-of-type {\n",
       "        vertical-align: middle;\n",
       "    }\n",
       "\n",
       "    .dataframe tbody tr th {\n",
       "        vertical-align: top;\n",
       "    }\n",
       "\n",
       "    .dataframe thead th {\n",
       "        text-align: right;\n",
       "    }\n",
       "</style>\n",
       "<table border=\"1\" class=\"dataframe\">\n",
       "  <thead>\n",
       "    <tr style=\"text-align: right;\">\n",
       "      <th></th>\n",
       "      <th>df</th>\n",
       "      <th>sum_sq</th>\n",
       "      <th>mean_sq</th>\n",
       "      <th>F</th>\n",
       "      <th>PR(&gt;F)</th>\n",
       "    </tr>\n",
       "  </thead>\n",
       "  <tbody>\n",
       "    <tr>\n",
       "      <th>C(Programming_Language)</th>\n",
       "      <td>4.0</td>\n",
       "      <td>1045.732799</td>\n",
       "      <td>261.433200</td>\n",
       "      <td>1.944654</td>\n",
       "      <td>0.104713</td>\n",
       "    </tr>\n",
       "    <tr>\n",
       "      <th>C(Remote_Work)</th>\n",
       "      <td>1.0</td>\n",
       "      <td>627.592091</td>\n",
       "      <td>627.592091</td>\n",
       "      <td>4.668303</td>\n",
       "      <td>0.031976</td>\n",
       "    </tr>\n",
       "    <tr>\n",
       "      <th>C(Programming_Language):C(Remote_Work)</th>\n",
       "      <td>4.0</td>\n",
       "      <td>2025.167462</td>\n",
       "      <td>506.291866</td>\n",
       "      <td>3.766019</td>\n",
       "      <td>0.005676</td>\n",
       "    </tr>\n",
       "    <tr>\n",
       "      <th>Residual</th>\n",
       "      <td>190.0</td>\n",
       "      <td>25543.007279</td>\n",
       "      <td>134.436880</td>\n",
       "      <td>NaN</td>\n",
       "      <td>NaN</td>\n",
       "    </tr>\n",
       "  </tbody>\n",
       "</table>\n",
       "</div>"
      ],
      "text/plain": [
       "                                           df        sum_sq     mean_sq  \\\n",
       "C(Programming_Language)                   4.0   1045.732799  261.433200   \n",
       "C(Remote_Work)                            1.0    627.592091  627.592091   \n",
       "C(Programming_Language):C(Remote_Work)    4.0   2025.167462  506.291866   \n",
       "Residual                                190.0  25543.007279  134.436880   \n",
       "\n",
       "                                               F    PR(>F)  \n",
       "C(Programming_Language)                 1.944654  0.104713  \n",
       "C(Remote_Work)                          4.668303  0.031976  \n",
       "C(Programming_Language):C(Remote_Work)  3.766019  0.005676  \n",
       "Residual                                     NaN       NaN  "
      ]
     },
     "execution_count": 30,
     "metadata": {},
     "output_type": "execute_result"
    }
   ],
   "source": [
    "anova_results"
   ]
  },
  {
   "cell_type": "markdown",
   "id": "440522d5",
   "metadata": {},
   "source": [
    "### conclusion"
   ]
  },
  {
   "cell_type": "markdown",
   "id": "24f4c016",
   "metadata": {},
   "source": [
    "##### pvalue < 0.05 - Reject Null Hypothesis (H0)\n",
    "##### For the above statement p-value for Programming_Language = 0.104, p-value for Remote_Work = 0.036\n",
    "\n",
    "##### There is no significnt difference between Programming_Language & Productivity_Score - (Accept Null hypothesis (H0))\n",
    "##### There is a significant difference between Remote_Work and Productivity_Score bcz pvalue(0.03<0.05), (reject Null hypothesis (H0))\n",
    "##### The interaction effect between Programming_Language and Remote_Work are statistically significant (p=0.005)."
   ]
  },
  {
   "cell_type": "code",
   "execution_count": null,
   "id": "fa1918bf",
   "metadata": {},
   "outputs": [],
   "source": []
  }
 ],
 "metadata": {
  "kernelspec": {
   "display_name": "Python 3 (ipykernel)",
   "language": "python",
   "name": "python3"
  },
  "language_info": {
   "codemirror_mode": {
    "name": "ipython",
    "version": 3
   },
   "file_extension": ".py",
   "mimetype": "text/x-python",
   "name": "python",
   "nbconvert_exporter": "python",
   "pygments_lexer": "ipython3",
   "version": "3.7.1"
  }
 },
 "nbformat": 4,
 "nbformat_minor": 5
}
